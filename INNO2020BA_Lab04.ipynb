{
  "nbformat": 4,
  "nbformat_minor": 0,
  "metadata": {
    "colab": {
      "name": "INNO2020BA_Lab04.ipynb",
      "provenance": [],
      "collapsed_sections": []
    },
    "kernelspec": {
      "name": "python3",
      "display_name": "Python 3"
    }
  },
  "cells": [
    {
      "cell_type": "markdown",
      "metadata": {
        "id": "FD_ldmnTQdmv"
      },
      "source": [
        "# Task 2"
      ]
    },
    {
      "cell_type": "markdown",
      "metadata": {
        "id": "odFM_CzQR1wW"
      },
      "source": [
        "## a"
      ]
    },
    {
      "cell_type": "code",
      "metadata": {
        "id": "fbcnOW2nQmmS",
        "colab": {
          "base_uri": "https://localhost:8080/"
        },
        "outputId": "07b8d4ea-8434-46b8-fa83-42ca87a576bd"
      },
      "source": [
        "from pprint import pprint\r\n",
        "cards = [\"ace\", 1, 2, 3, 4, 5, 6, 7, 8, 9, 10]\r\n",
        "values = [1 if x == \"ace\" else x for x in cards ]\r\n",
        "space = []\r\n",
        "\r\n",
        "for i in range(0, len(cards)):\r\n",
        "  for j in range(i+1, len(cards)):\r\n",
        "    space.append((cards[i], cards[j], values[i] + values[j]))\r\n",
        "\r\n",
        "pprint(space)"
      ],
      "execution_count": null,
      "outputs": [
        {
          "output_type": "stream",
          "text": [
            "[('ace', 1, 2),\n",
            " ('ace', 2, 3),\n",
            " ('ace', 3, 4),\n",
            " ('ace', 4, 5),\n",
            " ('ace', 5, 6),\n",
            " ('ace', 6, 7),\n",
            " ('ace', 7, 8),\n",
            " ('ace', 8, 9),\n",
            " ('ace', 9, 10),\n",
            " ('ace', 10, 11),\n",
            " (1, 2, 3),\n",
            " (1, 3, 4),\n",
            " (1, 4, 5),\n",
            " (1, 5, 6),\n",
            " (1, 6, 7),\n",
            " (1, 7, 8),\n",
            " (1, 8, 9),\n",
            " (1, 9, 10),\n",
            " (1, 10, 11),\n",
            " (2, 3, 5),\n",
            " (2, 4, 6),\n",
            " (2, 5, 7),\n",
            " (2, 6, 8),\n",
            " (2, 7, 9),\n",
            " (2, 8, 10),\n",
            " (2, 9, 11),\n",
            " (2, 10, 12),\n",
            " (3, 4, 7),\n",
            " (3, 5, 8),\n",
            " (3, 6, 9),\n",
            " (3, 7, 10),\n",
            " (3, 8, 11),\n",
            " (3, 9, 12),\n",
            " (3, 10, 13),\n",
            " (4, 5, 9),\n",
            " (4, 6, 10),\n",
            " (4, 7, 11),\n",
            " (4, 8, 12),\n",
            " (4, 9, 13),\n",
            " (4, 10, 14),\n",
            " (5, 6, 11),\n",
            " (5, 7, 12),\n",
            " (5, 8, 13),\n",
            " (5, 9, 14),\n",
            " (5, 10, 15),\n",
            " (6, 7, 13),\n",
            " (6, 8, 14),\n",
            " (6, 9, 15),\n",
            " (6, 10, 16),\n",
            " (7, 8, 15),\n",
            " (7, 9, 16),\n",
            " (7, 10, 17),\n",
            " (8, 9, 17),\n",
            " (8, 10, 18),\n",
            " (9, 10, 19)]\n"
          ],
          "name": "stdout"
        }
      ]
    },
    {
      "cell_type": "markdown",
      "metadata": {
        "id": "-tUH5C1IR3vy"
      },
      "source": [
        "## b"
      ]
    },
    {
      "cell_type": "code",
      "metadata": {
        "colab": {
          "base_uri": "https://localhost:8080/"
        },
        "id": "ENlK4EzNR434",
        "outputId": "fdc8ee22-343a-4aa7-bb0f-ecd0de5aa220"
      },
      "source": [
        "taskb = []\r\n",
        "for i in range(3, 20):\r\n",
        "  print(\"\\nEvent A\"+str(i))\r\n",
        "  for x in space:\r\n",
        "    if x[2] == i:\r\n",
        "      print(x)\r\n",
        "      taskb.append(x)\r\n"
      ],
      "execution_count": null,
      "outputs": [
        {
          "output_type": "stream",
          "text": [
            "\n",
            "Event A3\n",
            "('ace', 2, 3)\n",
            "(1, 2, 3)\n",
            "\n",
            "Event A4\n",
            "('ace', 3, 4)\n",
            "(1, 3, 4)\n",
            "\n",
            "Event A5\n",
            "('ace', 4, 5)\n",
            "(1, 4, 5)\n",
            "(2, 3, 5)\n",
            "\n",
            "Event A6\n",
            "('ace', 5, 6)\n",
            "(1, 5, 6)\n",
            "(2, 4, 6)\n",
            "\n",
            "Event A7\n",
            "('ace', 6, 7)\n",
            "(1, 6, 7)\n",
            "(2, 5, 7)\n",
            "(3, 4, 7)\n",
            "\n",
            "Event A8\n",
            "('ace', 7, 8)\n",
            "(1, 7, 8)\n",
            "(2, 6, 8)\n",
            "(3, 5, 8)\n",
            "\n",
            "Event A9\n",
            "('ace', 8, 9)\n",
            "(1, 8, 9)\n",
            "(2, 7, 9)\n",
            "(3, 6, 9)\n",
            "(4, 5, 9)\n",
            "\n",
            "Event A10\n",
            "('ace', 9, 10)\n",
            "(1, 9, 10)\n",
            "(2, 8, 10)\n",
            "(3, 7, 10)\n",
            "(4, 6, 10)\n",
            "\n",
            "Event A11\n",
            "('ace', 10, 11)\n",
            "(1, 10, 11)\n",
            "(2, 9, 11)\n",
            "(3, 8, 11)\n",
            "(4, 7, 11)\n",
            "(5, 6, 11)\n",
            "\n",
            "Event A12\n",
            "(2, 10, 12)\n",
            "(3, 9, 12)\n",
            "(4, 8, 12)\n",
            "(5, 7, 12)\n",
            "\n",
            "Event A13\n",
            "(3, 10, 13)\n",
            "(4, 9, 13)\n",
            "(5, 8, 13)\n",
            "(6, 7, 13)\n",
            "\n",
            "Event A14\n",
            "(4, 10, 14)\n",
            "(5, 9, 14)\n",
            "(6, 8, 14)\n",
            "\n",
            "Event A15\n",
            "(5, 10, 15)\n",
            "(6, 9, 15)\n",
            "(7, 8, 15)\n",
            "\n",
            "Event A16\n",
            "(6, 10, 16)\n",
            "(7, 9, 16)\n",
            "\n",
            "Event A17\n",
            "(7, 10, 17)\n",
            "(8, 9, 17)\n",
            "\n",
            "Event A18\n",
            "(8, 10, 18)\n",
            "\n",
            "Event A19\n",
            "(9, 10, 19)\n"
          ],
          "name": "stdout"
        }
      ]
    },
    {
      "cell_type": "markdown",
      "metadata": {
        "id": "P4kgqE9DThUB"
      },
      "source": [
        "## c"
      ]
    },
    {
      "cell_type": "code",
      "metadata": {
        "colab": {
          "base_uri": "https://localhost:8080/"
        },
        "id": "1u6UlCtyTidE",
        "outputId": "87321b0f-bf08-48cc-c1e0-eb295a96626c"
      },
      "source": [
        "len(taskb)/len(space)"
      ],
      "execution_count": null,
      "outputs": [
        {
          "output_type": "execute_result",
          "data": {
            "text/plain": [
              "0.9818181818181818"
            ]
          },
          "metadata": {
            "tags": []
          },
          "execution_count": 18
        }
      ]
    },
    {
      "cell_type": "markdown",
      "metadata": {
        "id": "3V24q1BjQgaC"
      },
      "source": [
        "# Task 4"
      ]
    },
    {
      "cell_type": "code",
      "metadata": {
        "id": "aDcqYGqrQm8D",
        "colab": {
          "base_uri": "https://localhost:8080/"
        },
        "outputId": "60afabb7-7a99-49a9-e48d-0d7f1d0107a9"
      },
      "source": [
        "candidates = [('m', 18), ('m', 19), ('f', 22), ('f', 20), ('m', 23)]\r\n",
        "ok_c = 0\r\n",
        "for x in candidates:\r\n",
        "  if x[0] == 'f' or x[1] > 21:\r\n",
        "    ok_c += 1\r\n",
        "\r\n",
        "print(ok_c / len(candidates)) "
      ],
      "execution_count": null,
      "outputs": [
        {
          "output_type": "stream",
          "text": [
            "0.6\n"
          ],
          "name": "stdout"
        }
      ]
    },
    {
      "cell_type": "markdown",
      "metadata": {
        "id": "UlIGONazQiWO"
      },
      "source": [
        "# Task 14"
      ]
    },
    {
      "cell_type": "markdown",
      "metadata": {
        "id": "eylKTIsaOrUk"
      },
      "source": [
        "a. \r\n",
        "\r\n",
        "East: $98/472=0.207$\r\n",
        "\r\n",
        "North: $85/472=0.18$\r\n",
        "\r\n",
        "South: $99/472=0.209$\r\n",
        "\r\n",
        "West: $190/472=0.403$\r\n",
        "\r\n",
        "b.\r\n",
        "\r\n",
        "$B$ - event of selling a book\r\n",
        "\r\n",
        "$P(B | East) = P(B \\cap East) / P(East) = 0.119 / 0.207=0.575$\r\n",
        "$P(B | North) = 0.091 / 0.18=0.506$\r\n",
        "$P(B | South) = 0.131 / 0.209=0.628$\r\n",
        "$P(B | West) = 0.212 / 0.403=0.526$"
      ]
    },
    {
      "cell_type": "markdown",
      "metadata": {
        "id": "Hzhry8IDQjcR"
      },
      "source": [
        "# Task 20"
      ]
    },
    {
      "cell_type": "markdown",
      "metadata": {
        "id": "mQBJWa9y--Y0"
      },
      "source": [
        "| | Sucess | Unsuccess |\r\n",
        "|--|---|-----|\r\n",
        "|Favorable |0.48 | 0.12 |\r\n",
        "| Unfavorable | 0.12 | 0.28 |\r\n",
        "| Total | **0.6** | **0.4** |"
      ]
    },
    {
      "cell_type": "markdown",
      "metadata": {
        "id": "k_eB-GISQkUE"
      },
      "source": [
        "# Task 29"
      ]
    },
    {
      "cell_type": "code",
      "metadata": {
        "colab": {
          "base_uri": "https://localhost:8080/"
        },
        "id": "0xlGUO5TIo3P",
        "outputId": "15a3da5f-6499-4be4-ad46-a82354376473"
      },
      "source": [
        "from scipy.special import binom\r\n",
        "\r\n",
        "def p_ret_n(rooms_n, rooms_returned, p_return):\r\n",
        "  return binom(rooms_n,rooms_returned) * (p_return**rooms_returned) * ((1-p_return) ** (rooms_n - rooms_returned))\r\n",
        "\r\n",
        "print(str((1-p_ret_n(300, 20, 0.06))*100) + \"%\")"
      ],
      "execution_count": 8,
      "outputs": [
        {
          "output_type": "stream",
          "text": [
            "91.79817694830716%\n"
          ],
          "name": "stdout"
        }
      ]
    },
    {
      "cell_type": "markdown",
      "metadata": {
        "id": "RuMBLjQQGdap"
      },
      "source": [
        "$\\binom{300}{20}0.06^{20}(1-0.06)^{300-20}=0.082 = 8.2\\%$ - probability of returning 20 rooms\r\n",
        "\r\n",
        "$1-0.082=0.918=91.8\\%$ - at least 280 rooms occupied"
      ]
    },
    {
      "cell_type": "markdown",
      "metadata": {
        "id": "21-2O6S5QlRW"
      },
      "source": [
        "# Task 31"
      ]
    },
    {
      "cell_type": "code",
      "metadata": {
        "colab": {
          "base_uri": "https://localhost:8080/"
        },
        "id": "3Y3mMt__JldN",
        "outputId": "bbd02d13-8fc7-4228-fc8e-6bb3b0a020b9"
      },
      "source": [
        "from scipy.stats import poisson\r\n",
        "\r\n",
        "print(\"7 working days\")\r\n",
        "\r\n",
        "for i in range(0, 6):\r\n",
        "  print(i, poisson.pmf(i,3)*100)\r\n",
        "\r\n",
        "print(\"\\n5 working days\")\r\n",
        "factor = 3 * (5/7)\r\n",
        "for i in range(0, 6):\r\n",
        "  print(i, poisson.pmf(i,factor)*100)"
      ],
      "execution_count": 35,
      "outputs": [
        {
          "output_type": "stream",
          "text": [
            "7 working days\n",
            "0 4.978706836786395\n",
            "1 14.936120510359185\n",
            "2 22.404180765538776\n",
            "3 22.404180765538776\n",
            "4 16.803135574154084\n",
            "5 10.081881344492457\n",
            "\n",
            "5 working days\n",
            "0 11.731916609425078\n",
            "1 25.139821305910875\n",
            "2 26.93552282776166\n",
            "3 19.239659162686902\n",
            "4 10.306960265725122\n",
            "5 4.417268685310767\n"
          ],
          "name": "stdout"
        }
      ]
    },
    {
      "cell_type": "markdown",
      "metadata": {
        "id": "VVCuiJQ0MYqG"
      },
      "source": [
        "a. $100-4.97=95.03\\%$\r\n",
        "\r\n",
        "b. $22.4+22.4+16.8=61.6\\%$\r\n",
        "\r\n",
        "c. $25\\%$\r\n"
      ]
    }
  ]
}